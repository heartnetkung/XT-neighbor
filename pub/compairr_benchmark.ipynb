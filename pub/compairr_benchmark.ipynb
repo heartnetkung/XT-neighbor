{
 "cells": [
  {
   "cell_type": "code",
   "execution_count": 1,
   "id": "c9fb13f1",
   "metadata": {},
   "outputs": [],
   "source": [
    "import pandas as pd\n",
    "import numpy as np\n",
    "import matplotlib.pyplot as plt\n",
    "import scipy.stats\n",
    "\n",
    "import pyrepseq.plotting as pp\n",
    "\n",
    "plt.style.use('bmh')"
   ]
  },
  {
   "cell_type": "code",
   "execution_count": 2,
   "id": "6cc6cde0",
   "metadata": {},
   "outputs": [
    {
     "data": {
      "text/html": [
       "<div>\n",
       "<style scoped>\n",
       "    .dataframe tbody tr th:only-of-type {\n",
       "        vertical-align: middle;\n",
       "    }\n",
       "\n",
       "    .dataframe tbody tr th {\n",
       "        vertical-align: top;\n",
       "    }\n",
       "\n",
       "    .dataframe thead th {\n",
       "        text-align: right;\n",
       "    }\n",
       "</style>\n",
       "<table border=\"1\" class=\"dataframe\">\n",
       "  <thead>\n",
       "    <tr style=\"text-align: right;\">\n",
       "      <th></th>\n",
       "      <th>runtime</th>\n",
       "      <th>algorithm</th>\n",
       "      <th>n_sequence</th>\n",
       "      <th>distance</th>\n",
       "      <th>measure</th>\n",
       "      <th>n_repertoire</th>\n",
       "    </tr>\n",
       "  </thead>\n",
       "  <tbody>\n",
       "    <tr>\n",
       "      <th>2</th>\n",
       "      <td>30.531491</td>\n",
       "      <td>SymDel lookup</td>\n",
       "      <td>407713</td>\n",
       "      <td>1</td>\n",
       "      <td>hamming</td>\n",
       "      <td>2</td>\n",
       "    </tr>\n",
       "    <tr>\n",
       "      <th>3</th>\n",
       "      <td>1.710112</td>\n",
       "      <td>Compairr</td>\n",
       "      <td>407713</td>\n",
       "      <td>1</td>\n",
       "      <td>hamming</td>\n",
       "      <td>2</td>\n",
       "    </tr>\n",
       "    <tr>\n",
       "      <th>4</th>\n",
       "      <td>64.389258</td>\n",
       "      <td>SymDel lookup</td>\n",
       "      <td>765218</td>\n",
       "      <td>1</td>\n",
       "      <td>hamming</td>\n",
       "      <td>4</td>\n",
       "    </tr>\n",
       "    <tr>\n",
       "      <th>5</th>\n",
       "      <td>4.095441</td>\n",
       "      <td>Compairr</td>\n",
       "      <td>765218</td>\n",
       "      <td>1</td>\n",
       "      <td>hamming</td>\n",
       "      <td>4</td>\n",
       "    </tr>\n",
       "    <tr>\n",
       "      <th>6</th>\n",
       "      <td>177.064740</td>\n",
       "      <td>SymDel lookup</td>\n",
       "      <td>1601656</td>\n",
       "      <td>1</td>\n",
       "      <td>hamming</td>\n",
       "      <td>8</td>\n",
       "    </tr>\n",
       "  </tbody>\n",
       "</table>\n",
       "</div>"
      ],
      "text/plain": [
       "      runtime      algorithm  n_sequence  distance  measure  n_repertoire\n",
       "2   30.531491  SymDel lookup      407713         1  hamming             2\n",
       "3    1.710112       Compairr      407713         1  hamming             2\n",
       "4   64.389258  SymDel lookup      765218         1  hamming             4\n",
       "5    4.095441       Compairr      765218         1  hamming             4\n",
       "6  177.064740  SymDel lookup     1601656         1  hamming             8"
      ]
     },
     "execution_count": 2,
     "metadata": {},
     "output_type": "execute_result"
    }
   ],
   "source": [
    "df = pd.read_csv('../data/compairr_benchmark.csv', index_col=0)\n",
    "df = df[df['n_repertoire']>1]\n",
    "df.head()"
   ]
  },
  {
   "cell_type": "code",
   "execution_count": 3,
   "id": "8dee7f53",
   "metadata": {},
   "outputs": [],
   "source": [
    "algorithms = ['Compairr', 'SymDel lookup', 'XTNeighbor-streaming']\n",
    "algorithm_labels = {\n",
    "                    'Compairr' : 'CompAIRR (CPU)',\n",
    "                    'SymDel lookup' : 'SymDel lookup (CPU)',\n",
    "                    'XTNeighbor-streaming' : 'XTNeighbor-streaming (GPU)'\n",
    "                   }"
   ]
  },
  {
   "cell_type": "code",
   "execution_count": 5,
   "id": "55bb93c6",
   "metadata": {},
   "outputs": [
    {
     "name": "stdout",
     "output_type": "stream",
     "text": [
      "Compairr 1 1.85, 0.06\n",
      "SymDel lookup 1 1.46, 0.05\n",
      "XTNeighbor-streaming 1 1.03, 0.06\n",
      "Compairr 2 1.47, 0.05\n",
      "SymDel lookup 2 1.46, 0.04\n",
      "XTNeighbor-streaming 2 1.29, 0.02\n"
     ]
    },
    {
     "data": {
      "image/png": "[encoded data removed]",
      "text/plain": [
       "<Figure size 489.6x172.8 with 2 Axes>"
      ]
     },
     "metadata": {
      "needs_background": "light"
     },
     "output_type": "display_data"
    }
   ],
   "source": [
    "fig, axes = plt.subplots(figsize=(6.8, 2.4), ncols=2, sharey=True, sharex=True)\n",
    "for d in [1, 2]:\n",
    "    for index, algorithm in enumerate(algorithms):\n",
    "        data = df[(df['distance']==d) & (df['algorithm']==algorithm)]\n",
    "        mean = data.groupby('n_repertoire').mean(numeric_only=True)\n",
    "        x, y = mean.index, mean['runtime']\n",
    "\n",
    "        slope, intercept, r, p, se = scipy.stats.linregress(np.log(x[-3:]), np.log(y[-3:]))\n",
    "        print(algorithm, d, f'{slope:.3}, {se:.1}')\n",
    "        l, = axes[d-1].plot(x, y, 'o',\n",
    "                label=algorithm_labels[algorithm],\n",
    "                color=f'C{6-index}')\n",
    "        axes[d-1].plot(x, np.exp(slope*np.log(x)+intercept), '-', color=l.get_color())\n",
    "    axes[d-1].set_yscale('log')\n",
    "    axes[d-1].set_xscale('log', base=2)\n",
    "    axes[d-1].set_xlabel('# Repertoires')\n",
    "axes[0].set_ylabel('Time in seconds')\n",
    "legend = axes[-1].legend(bbox_to_anchor=(1, 1), fontsize='small')\n",
    "legend_texts = legend.get_texts()\n",
    "for i in range(1, 3):\n",
    "    legend_texts[-i].set_weight('bold') \n",
    "axes[0].text(-0.25, 1.0, 'A', transform=axes[0].transAxes, fontweight=\"bold\", va=\"top\")\n",
    "fig.tight_layout(w_pad=2, pad=0.0)\n",
    "axes[1].text(-0.07, 1.0, 'B', transform=axes[1].transAxes, fontweight=\"bold\", va=\"top\")\n",
    "fig.savefig('compairr_benchmark.pdf')"
   ]
  },
  {
   "cell_type": "code",
   "execution_count": null,
   "id": "72155cc2",
   "metadata": {},
   "outputs": [],
   "source": []
  }
 ],
 "metadata": {
  "kernelspec": {
   "display_name": "Python 3 (ipykernel)",
   "language": "python",
   "name": "python3"
  },
  "language_info": {
   "codemirror_mode": {
    "name": "ipython",
    "version": 3
   },
   "file_extension": ".py",
   "mimetype": "text/x-python",
   "name": "python",
   "nbconvert_exporter": "python",
   "pygments_lexer": "ipython3",
   "version": "3.9.7"
  }
 },
 "nbformat": 4,
 "nbformat_minor": 5
}
