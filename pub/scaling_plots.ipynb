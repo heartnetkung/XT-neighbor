{
 "cells": [
  {
   "cell_type": "code",
   "execution_count": 1,
   "id": "83e60632",
   "metadata": {},
   "outputs": [],
   "source": [
    "import pandas as pd\n",
    "import numpy as np\n",
    "import matplotlib.pyplot as plt\n",
    "import scipy.stats\n",
    "\n",
    "import pyrepseq.plotting as pp\n",
    "\n",
    "plt.style.use('bmh')"
   ]
  },
  {
   "cell_type": "code",
   "execution_count": 2,
   "id": "f2a35b01",
   "metadata": {},
   "outputs": [
    {
     "data": {
      "text/html": [
       "<div>\n",
       "<style scoped>\n",
       "    .dataframe tbody tr th:only-of-type {\n",
       "        vertical-align: middle;\n",
       "    }\n",
       "\n",
       "    .dataframe tbody tr th {\n",
       "        vertical-align: top;\n",
       "    }\n",
       "\n",
       "    .dataframe thead th {\n",
       "        text-align: right;\n",
       "    }\n",
       "</style>\n",
       "<table border=\"1\" class=\"dataframe\">\n",
       "  <thead>\n",
       "    <tr style=\"text-align: right;\">\n",
       "      <th></th>\n",
       "      <th>runtime</th>\n",
       "      <th>algorithm</th>\n",
       "      <th>input_size</th>\n",
       "      <th>distance</th>\n",
       "    </tr>\n",
       "  </thead>\n",
       "  <tbody>\n",
       "    <tr>\n",
       "      <th>5</th>\n",
       "      <td>0.090237</td>\n",
       "      <td>kdtree</td>\n",
       "      <td>1000</td>\n",
       "      <td>1</td>\n",
       "    </tr>\n",
       "    <tr>\n",
       "      <th>6</th>\n",
       "      <td>0.491201</td>\n",
       "      <td>symspell</td>\n",
       "      <td>1000</td>\n",
       "      <td>1</td>\n",
       "    </tr>\n",
       "    <tr>\n",
       "      <th>7</th>\n",
       "      <td>0.379608</td>\n",
       "      <td>combinatorial_lookup</td>\n",
       "      <td>1000</td>\n",
       "      <td>1</td>\n",
       "    </tr>\n",
       "    <tr>\n",
       "      <th>8</th>\n",
       "      <td>0.302681</td>\n",
       "      <td>exhaustive_search</td>\n",
       "      <td>1000</td>\n",
       "      <td>1</td>\n",
       "    </tr>\n",
       "    <tr>\n",
       "      <th>9</th>\n",
       "      <td>0.121302</td>\n",
       "      <td>bktree</td>\n",
       "      <td>1000</td>\n",
       "      <td>1</td>\n",
       "    </tr>\n",
       "  </tbody>\n",
       "</table>\n",
       "</div>"
      ],
      "text/plain": [
       "    runtime             algorithm  input_size  distance\n",
       "5  0.090237                kdtree        1000         1\n",
       "6  0.491201              symspell        1000         1\n",
       "7  0.379608  combinatorial_lookup        1000         1\n",
       "8  0.302681     exhaustive_search        1000         1\n",
       "9  0.121302                bktree        1000         1"
      ]
     },
     "execution_count": 2,
     "metadata": {},
     "output_type": "execute_result"
    }
   ],
   "source": [
    "cpu = pd.read_csv('../data/cpu_benchmark.csv', index_col=0)\n",
    "cpu = cpu[cpu['input_size']>100]\n",
    "cpu.head()"
   ]
  },
  {
   "cell_type": "code",
   "execution_count": 3,
   "id": "e20c8165",
   "metadata": {},
   "outputs": [
    {
     "data": {
      "text/html": [
       "<div>\n",
       "<style scoped>\n",
       "    .dataframe tbody tr th:only-of-type {\n",
       "        vertical-align: middle;\n",
       "    }\n",
       "\n",
       "    .dataframe tbody tr th {\n",
       "        vertical-align: top;\n",
       "    }\n",
       "\n",
       "    .dataframe thead th {\n",
       "        text-align: right;\n",
       "    }\n",
       "</style>\n",
       "<table border=\"1\" class=\"dataframe\">\n",
       "  <thead>\n",
       "    <tr style=\"text-align: right;\">\n",
       "      <th></th>\n",
       "      <th>runtime</th>\n",
       "      <th>algorithm</th>\n",
       "      <th>input_size</th>\n",
       "      <th>distance</th>\n",
       "    </tr>\n",
       "  </thead>\n",
       "  <tbody>\n",
       "    <tr>\n",
       "      <th>8</th>\n",
       "      <td>3.767601</td>\n",
       "      <td>symspell</td>\n",
       "      <td>30000</td>\n",
       "      <td>1</td>\n",
       "    </tr>\n",
       "    <tr>\n",
       "      <th>11</th>\n",
       "      <td>11.046187</td>\n",
       "      <td>symspell</td>\n",
       "      <td>100000</td>\n",
       "      <td>1</td>\n",
       "    </tr>\n",
       "    <tr>\n",
       "      <th>14</th>\n",
       "      <td>23.264184</td>\n",
       "      <td>symspell</td>\n",
       "      <td>300000</td>\n",
       "      <td>1</td>\n",
       "    </tr>\n",
       "    <tr>\n",
       "      <th>17</th>\n",
       "      <td>58.157510</td>\n",
       "      <td>symspell</td>\n",
       "      <td>1000000</td>\n",
       "      <td>1</td>\n",
       "    </tr>\n",
       "    <tr>\n",
       "      <th>20</th>\n",
       "      <td>168.313022</td>\n",
       "      <td>symspell</td>\n",
       "      <td>3000000</td>\n",
       "      <td>1</td>\n",
       "    </tr>\n",
       "  </tbody>\n",
       "</table>\n",
       "</div>"
      ],
      "text/plain": [
       "       runtime algorithm  input_size  distance\n",
       "8     3.767601  symspell       30000         1\n",
       "11   11.046187  symspell      100000         1\n",
       "14   23.264184  symspell      300000         1\n",
       "17   58.157510  symspell     1000000         1\n",
       "20  168.313022  symspell     3000000         1"
      ]
     },
     "execution_count": 3,
     "metadata": {},
     "output_type": "execute_result"
    }
   ],
   "source": [
    "gpu = pd.read_csv('../data/gpu_benchmark.csv', index_col=0)\n",
    "gpu = gpu[gpu['input_size']>10000]\n",
    "gpu.head()"
   ]
  },
  {
   "cell_type": "code",
   "execution_count": 4,
   "id": "95cae720",
   "metadata": {},
   "outputs": [
    {
     "data": {
      "text/plain": [
       "30000       180\n",
       "100000      180\n",
       "300000      180\n",
       "1000000     180\n",
       "10000000    121\n",
       "3000000     120\n",
       "30000000     30\n",
       "Name: input_size, dtype: int64"
      ]
     },
     "execution_count": 4,
     "metadata": {},
     "output_type": "execute_result"
    }
   ],
   "source": [
    "gpu['input_size'].value_counts()"
   ]
  },
  {
   "cell_type": "code",
   "execution_count": 5,
   "id": "b0e7823e-5b4d-4c9c-86b8-7ae0477fc05b",
   "metadata": {},
   "outputs": [
    {
     "data": {
      "text/html": [
       "<div>\n",
       "<style scoped>\n",
       "    .dataframe tbody tr th:only-of-type {\n",
       "        vertical-align: middle;\n",
       "    }\n",
       "\n",
       "    .dataframe tbody tr th {\n",
       "        vertical-align: top;\n",
       "    }\n",
       "\n",
       "    .dataframe thead th {\n",
       "        text-align: right;\n",
       "    }\n",
       "</style>\n",
       "<table border=\"1\" class=\"dataframe\">\n",
       "  <thead>\n",
       "    <tr style=\"text-align: right;\">\n",
       "      <th></th>\n",
       "      <th>runtime</th>\n",
       "      <th>algorithm</th>\n",
       "      <th>input_size</th>\n",
       "      <th>distance</th>\n",
       "    </tr>\n",
       "  </thead>\n",
       "  <tbody>\n",
       "    <tr>\n",
       "      <th>0</th>\n",
       "      <td>6.329441</td>\n",
       "      <td>kdtree</td>\n",
       "      <td>10000</td>\n",
       "      <td>1</td>\n",
       "    </tr>\n",
       "    <tr>\n",
       "      <th>1</th>\n",
       "      <td>1.235529</td>\n",
       "      <td>symspell</td>\n",
       "      <td>10000</td>\n",
       "      <td>1</td>\n",
       "    </tr>\n",
       "    <tr>\n",
       "      <th>2</th>\n",
       "      <td>45.932961</td>\n",
       "      <td>exhaustive_search</td>\n",
       "      <td>10000</td>\n",
       "      <td>1</td>\n",
       "    </tr>\n",
       "    <tr>\n",
       "      <th>3</th>\n",
       "      <td>5.462839</td>\n",
       "      <td>bktree</td>\n",
       "      <td>10000</td>\n",
       "      <td>1</td>\n",
       "    </tr>\n",
       "    <tr>\n",
       "      <th>4</th>\n",
       "      <td>18.854132</td>\n",
       "      <td>kdtree</td>\n",
       "      <td>10000</td>\n",
       "      <td>2</td>\n",
       "    </tr>\n",
       "  </tbody>\n",
       "</table>\n",
       "</div>"
      ],
      "text/plain": [
       "     runtime          algorithm  input_size  distance\n",
       "0   6.329441             kdtree       10000         1\n",
       "1   1.235529           symspell       10000         1\n",
       "2  45.932961  exhaustive_search       10000         1\n",
       "3   5.462839             bktree       10000         1\n",
       "4  18.854132             kdtree       10000         2"
      ]
     },
     "execution_count": 5,
     "metadata": {},
     "output_type": "execute_result"
    }
   ],
   "source": [
    "cpu_dist = pd.read_csv('../data/cpu_dist_benchmark.csv', index_col=0)\n",
    "cpu_dist.head()"
   ]
  },
  {
   "cell_type": "code",
   "execution_count": 6,
   "id": "74745c43",
   "metadata": {},
   "outputs": [
    {
     "data": {
      "text/html": [
       "<div>\n",
       "<style scoped>\n",
       "    .dataframe tbody tr th:only-of-type {\n",
       "        vertical-align: middle;\n",
       "    }\n",
       "\n",
       "    .dataframe tbody tr th {\n",
       "        vertical-align: top;\n",
       "    }\n",
       "\n",
       "    .dataframe thead th {\n",
       "        text-align: right;\n",
       "    }\n",
       "</style>\n",
       "<table border=\"1\" class=\"dataframe\">\n",
       "  <thead>\n",
       "    <tr style=\"text-align: right;\">\n",
       "      <th></th>\n",
       "      <th>runtime</th>\n",
       "      <th>algorithm</th>\n",
       "      <th>input_size</th>\n",
       "      <th>distance</th>\n",
       "    </tr>\n",
       "  </thead>\n",
       "  <tbody>\n",
       "    <tr>\n",
       "      <th>0</th>\n",
       "      <td>179.752818</td>\n",
       "      <td>symspell</td>\n",
       "      <td>100000</td>\n",
       "      <td>3</td>\n",
       "    </tr>\n",
       "    <tr>\n",
       "      <th>1</th>\n",
       "      <td>179.760488</td>\n",
       "      <td>symspell</td>\n",
       "      <td>100000</td>\n",
       "      <td>3</td>\n",
       "    </tr>\n",
       "    <tr>\n",
       "      <th>2</th>\n",
       "      <td>172.444964</td>\n",
       "      <td>symspell</td>\n",
       "      <td>100000</td>\n",
       "      <td>3</td>\n",
       "    </tr>\n",
       "    <tr>\n",
       "      <th>3</th>\n",
       "      <td>182.348173</td>\n",
       "      <td>symspell</td>\n",
       "      <td>100000</td>\n",
       "      <td>3</td>\n",
       "    </tr>\n",
       "    <tr>\n",
       "      <th>4</th>\n",
       "      <td>173.890007</td>\n",
       "      <td>symspell</td>\n",
       "      <td>100000</td>\n",
       "      <td>3</td>\n",
       "    </tr>\n",
       "  </tbody>\n",
       "</table>\n",
       "</div>"
      ],
      "text/plain": [
       "      runtime algorithm  input_size  distance\n",
       "0  179.752818  symspell      100000         3\n",
       "1  179.760488  symspell      100000         3\n",
       "2  172.444964  symspell      100000         3\n",
       "3  182.348173  symspell      100000         3\n",
       "4  173.890007  symspell      100000         3"
      ]
     },
     "execution_count": 6,
     "metadata": {},
     "output_type": "execute_result"
    }
   ],
   "source": [
    "gpu_dist = pd.read_csv('../data/gpu_dist_benchmark.csv', index_col=0)\n",
    "gpu_dist.head()"
   ]
  },
  {
   "cell_type": "code",
   "execution_count": 7,
   "id": "9aa8f61a",
   "metadata": {},
   "outputs": [
    {
     "data": {
      "text/plain": [
       "100000    390\n",
       "Name: input_size, dtype: int64"
      ]
     },
     "execution_count": 7,
     "metadata": {},
     "output_type": "execute_result"
    }
   ],
   "source": [
    "gpu_dist['input_size'].value_counts()"
   ]
  },
  {
   "cell_type": "code",
   "execution_count": 8,
   "id": "ea87d4ca",
   "metadata": {},
   "outputs": [],
   "source": [
    "algorithm_labels_cpu = {\n",
    "                    'kdtree' : 'k-d tree bag',\n",
    "                    'symspell' : 'SymDel lookup',\n",
    "                    'combinatorial_lookup': 'Combinatorial lookup',\n",
    "                    'exhaustive_search': 'Exhaustive search',\n",
    "                    'bktree' : 'BKtree'\n",
    "                   }\n",
    "algorithm_labels_gpu = {\n",
    "                    'symspell' : 'SymDel lookup (CPU)',\n",
    "                    'V1' : 'XTNeigbor (GPU)',\n",
    "                    'V2' : 'XTNeighbor-streaming (GPU)'\n",
    "                   }\n",
    "algorithms_cpu = ['exhaustive_search', 'bktree', 'combinatorial_lookup', 'kdtree', 'symspell']\n",
    "algorithms_gpu = ['symspell', 'V1', 'V2']"
   ]
  },
  {
   "cell_type": "code",
   "execution_count": 9,
   "id": "3943a285",
   "metadata": {},
   "outputs": [
    {
     "name": "stdout",
     "output_type": "stream",
     "text": [
      "cpu\n",
      "gpu\n"
     ]
    },
    {
     "data": {
      "image/png": "[encoded data removed]",
      "text/plain": [
       "<Figure size 489.6x172.8 with 3 Axes>"
      ]
     },
     "metadata": {
      "needs_background": "light"
     },
     "output_type": "display_data"
    },
    {
     "data": {
      "image/png": "[encoded data removed]",
      "text/plain": [
       "<Figure size 489.6x172.8 with 3 Axes>"
      ]
     },
     "metadata": {
      "needs_background": "light"
     },
     "output_type": "display_data"
    }
   ],
   "source": [
    "configs =[\n",
    "    ('cpu', cpu, algorithms_cpu, cpu_dist, algorithm_labels_cpu, 'Distances (n=$10^4$)'),\n",
    "    ('gpu', gpu, algorithms_gpu, gpu_dist, algorithm_labels_gpu, 'Distances (n=$10^5$)')\n",
    "]\n",
    "\n",
    "for name, df, algorithms, df2, labels, x_label in configs:\n",
    "    print(name)\n",
    "    fig, axes = plt.subplots(figsize=(6.8, 2.4), ncols=3, sharey=True, sharex=False)\n",
    "    \n",
    "    # draw left and middle graphs\n",
    "    for d in [1, 2]:\n",
    "        for index, algorithm in enumerate(algorithms):\n",
    "            data = df[(df['distance']==d) & (df['algorithm']==algorithm)]\n",
    "            mean = data.groupby('input_size').mean(numeric_only=True)\n",
    "            x, y = mean.index, mean['runtime']\n",
    "            if name == 'cpu':\n",
    "                slope, intercept, r, p, se = scipy.stats.linregress(np.log(x), np.log(y))\n",
    "                l, = axes[d-1].plot(x, y, 'o',\n",
    "                        label=labels[algorithm],color=f'C{6-index}')\n",
    "            elif name == 'gpu':\n",
    "                slope, intercept, r, p, se = scipy.stats.linregress(np.log(x[-3:]), np.log(y[-3:]))\n",
    "                l, = axes[d-1].plot(x, y, 'o', label=labels[algorithm], color=f'C{2-index}')\n",
    "            axes[d-1].plot(x, np.exp(slope*np.log(x)+intercept), '-', color=l.get_color())\n",
    "            axes[d-1].set_xlabel('# Sequences (d='+str(d)+')')\n",
    "        axes[d-1].set_yscale('log')\n",
    "        axes[d-1].set_xscale('log')\n",
    "        \n",
    "    # draw right graph                 \n",
    "    for index, algorithm in enumerate(algorithms):\n",
    "        data2 = df2[df2['algorithm']==algorithm]\n",
    "        mean2 = data2.groupby('distance').mean(numeric_only=True)\n",
    "        x2, y2 = mean2.index, mean2['runtime']\n",
    "        if name == 'cpu':\n",
    "            slope2, intercept2, r2, p, se = scipy.stats.linregress(x2, np.log(y2))\n",
    "            l, = axes[2].plot(x2, y2, 'o', \n",
    "                    label=labels[algorithm], color=f'C{6-index}')\n",
    "            axes[2].plot(x2, np.exp(slope2*x2+intercept2), '-', color=l.get_color())\n",
    "        elif name == 'gpu':\n",
    "            slope2, intercept2, r2, p, se = scipy.stats.linregress(x2, np.log(y2))\n",
    "            l, = axes[2].plot(x2, y2, 'o', \n",
    "                    label=labels[algorithm], color=f'C{2-index}')\n",
    "            axes[2].plot(x2, np.exp(slope2*x2+intercept2), '-', color=l.get_color())\n",
    "    \n",
    "    axes[2].set_xlabel(x_label)\n",
    "    axes[2].set_xticks([1,2,3,4,5])    \n",
    "    axes[0].set_ylabel('Time in seconds')\n",
    "    legend = axes[-2].legend(bbox_to_anchor=(3.4 if name==\"cpu\" else 3.85, 1), fontsize='small')\n",
    "    for i in range(1, 4 if name=='gpu' else 3):\n",
    "        legend.get_texts()[-i].set_weight('bold') \n",
    "    axes[0].text(-0.35, 1.0, 'A', transform=axes[0].transAxes, fontweight=\"bold\", va=\"top\")\n",
    "    axes[1].text(-0.1, 1.0, 'B', transform=axes[1].transAxes, fontweight=\"bold\", va=\"top\")\n",
    "    axes[2].text(-0.1, 1.0, 'C', transform=axes[2].transAxes, fontweight=\"bold\", va=\"top\")\n",
    "    \n",
    "    \n",
    "    fig.savefig(f'{name}_benchmark2.pdf',bbox_inches='tight')\n",
    "    # fig.savefig(f'{name}_benchmark.svg')"
   ]
  },
  {
   "cell_type": "code",
   "execution_count": null,
   "id": "9c7dad01",
   "metadata": {},
   "outputs": [],
   "source": []
  },
  {
   "cell_type": "code",
   "execution_count": null,
   "id": "edb101f0-239f-49b7-962a-f08a74fc1602",
   "metadata": {},
   "outputs": [],
   "source": []
  }
 ],
 "metadata": {
  "kernelspec": {
   "display_name": "Python 3 (ipykernel)",
   "language": "python",
   "name": "python3"
  },
  "language_info": {
   "codemirror_mode": {
    "name": "ipython",
    "version": 3
   },
   "file_extension": ".py",
   "mimetype": "text/x-python",
   "name": "python",
   "nbconvert_exporter": "python",
   "pygments_lexer": "ipython3",
   "version": "3.9.7"
  }
 },
 "nbformat": 4,
 "nbformat_minor": 5
}
