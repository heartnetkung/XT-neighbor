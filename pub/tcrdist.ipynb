{
 "cells": [
  {
   "cell_type": "code",
   "execution_count": 1,
   "id": "8dbff475",
   "metadata": {},
   "outputs": [],
   "source": [
    "import pandas as pd\n",
    "import pyrepseq as prs\n",
    "import numpy as np\n",
    "import matplotlib.pyplot as plt\n",
    "import scipy.sparse\n",
    "import warnings\n",
    "import seaborn as sns\n",
    "import time\n",
    "\n",
    "from tcrdist.repertoire import TCRrep\n",
    "from tcrdist.rep_funcs import compute_pw_sparse_out_of_memory\n",
    "from pyrepseq.metric.tcr_metric import BetaTcrdist\n",
    "btcrdist = BetaTcrdist()\n",
    "\n",
    "plt.style.use('bmh')"
   ]
  },
  {
   "cell_type": "code",
   "execution_count": 2,
   "id": "a3818ec2",
   "metadata": {},
   "outputs": [],
   "source": [
    "df = pd.read_csv('/home/andreas/drop/data/emerson/HIP00110.tsv.gz', sep='\\t')\n",
    "df = df[df['amino_acid'].apply(prs.isvalidcdr3)]\n",
    "df = prs.standardize_dataframe(df, col_mapper={'amino_acid' : 'CDR3B',\n",
    "                                          'v_family' : 'TRBV',\n",
    "                                         },\n",
    "                              suppress_warnings=True)\n",
    "df.dropna(subset='TRBV', inplace=True)\n",
    "df.drop_duplicates('CDR3B', inplace=True)\n",
    "df['CDR3Blen'] = df['CDR3B'].apply(len)\n",
    "df = df[df['CDR3Blen']>5]\n",
    "df['TRBV'] = df['TRBV'] + '*01'\n",
    "df.reset_index(drop=True, inplace=True)"
   ]
  },
  {
   "cell_type": "code",
   "execution_count": 3,
   "id": "429f37eb",
   "metadata": {},
   "outputs": [],
   "source": [
    "max_tcrdists = np.arange(0, 42, 3)"
   ]
  },
  {
   "cell_type": "code",
   "execution_count": 4,
   "id": "c7731411",
   "metadata": {},
   "outputs": [],
   "source": [
    "nsamples = 3\n",
    "dfs = [df.sample(40000) for i in range(nsamples)]"
   ]
  },
  {
   "cell_type": "code",
   "execution_count": 5,
   "id": "e5a2dc45",
   "metadata": {},
   "outputs": [],
   "source": [
    "# warm-up numba for benchmarking\n",
    "d = dfs[0]\n",
    "prs.nearest_neighbor_tcrdist(d, max_edits=2,\n",
    "                             max_tcrdist=0);"
   ]
  },
  {
   "cell_type": "code",
   "execution_count": 6,
   "id": "63736e3b",
   "metadata": {},
   "outputs": [],
   "source": [
    "neighbors_symdel = {dist:[] for dist in max_tcrdists}\n",
    "times_symdel = []\n",
    "for d in dfs:\n",
    "    told = time.time()\n",
    "    prs_nn = prs.nearest_neighbor_tcrdist(d, max_edits=2,\n",
    "                                      max_tcrdist=max_tcrdists[-1])\n",
    "    for dist in max_tcrdists:\n",
    "        neighbors_symdel[dist].append((prs_nn[:, 2]<=dist).sum())\n",
    "    times_symdel.append(time.time()-told)\n",
    "neighbors_symdel = {key: np.array(value) for key, value in neighbors_symdel.items()}\n",
    "times_symdel = np.array(times_symdel)"
   ]
  },
  {
   "cell_type": "code",
   "execution_count": 7,
   "id": "0aa23921",
   "metadata": {},
   "outputs": [
    {
     "data": {
      "text/plain": [
       "{0: array([154, 174, 166]),\n",
       " 3: array([186, 224, 198]),\n",
       " 6: array([354, 402, 366]),\n",
       " 9: array([900, 952, 834]),\n",
       " 12: array([7260, 7470, 7122]),\n",
       " 15: array([7966, 8238, 7844]),\n",
       " 18: array([11498, 11696, 11304]),\n",
       " 21: array([20842, 20994, 20876]),\n",
       " 24: array([86210, 87606, 86696]),\n",
       " 27: array([86288, 87672, 86774]),\n",
       " 30: array([86754, 88114, 87272]),\n",
       " 33: array([88176, 89544, 88678]),\n",
       " 36: array([ 98874, 100118,  99438]),\n",
       " 39: array([ 98922, 100150,  99462])}"
      ]
     },
     "execution_count": 7,
     "metadata": {},
     "output_type": "execute_result"
    }
   ],
   "source": [
    "neighbors_symdel"
   ]
  },
  {
   "cell_type": "code",
   "execution_count": 8,
   "id": "1ab614f7",
   "metadata": {},
   "outputs": [
    {
     "data": {
      "text/plain": [
       "array([4.15846968, 4.30268693, 4.31684828])"
      ]
     },
     "execution_count": 8,
     "metadata": {},
     "output_type": "execute_result"
    }
   ],
   "source": [
    "times_symdel"
   ]
  },
  {
   "cell_type": "code",
   "execution_count": 9,
   "id": "b5ecadd7",
   "metadata": {},
   "outputs": [],
   "source": [
    "#neighbors_exhaustive = {dist:[] for dist in max_tcrdists}\n",
    "#times_exhaustive = []\n",
    "#for d in dfs:\n",
    "#    told = time.time()\n",
    "#    nn = btcrdist.calc_pdist_vector(d)\n",
    "#    for dist in max_tcrdists:\n",
    "#        neighbors_exhaustive[dist].append((nn<=dist).sum()*2)\n",
    "#    times_exhaustive.append(time.time()-told)\n",
    "#neighbors_exhaustive = {key: np.array(value) for key, value in neighbors_exhaustive.items()}\n",
    "#times_exhaustive = np.array(times_exhaustive)"
   ]
  },
  {
   "cell_type": "code",
   "execution_count": 10,
   "id": "7528b908",
   "metadata": {},
   "outputs": [],
   "source": [
    "#neighbors_exhaustive"
   ]
  },
  {
   "cell_type": "code",
   "execution_count": 11,
   "id": "3ba2935e",
   "metadata": {},
   "outputs": [],
   "source": [
    "def convert_df_to_tcrdist_form(df: pd.DataFrame):\n",
    "    mapper = {\n",
    "            \"TRBV\": \"v_b_gene\",\n",
    "            \"CDR3B\": \"cdr3_b_aa\",\n",
    "            \"rearrangement\" : 'cdr3_b_nucseq'}\n",
    "    df = df.rename(columns=mapper)\n",
    "    \n",
    "    df = df[list(mapper.values())]\n",
    "\n",
    "    if not \"count\" in df:\n",
    "        df[\"count\"] = 1\n",
    "\n",
    "    return df"
   ]
  },
  {
   "cell_type": "code",
   "execution_count": 12,
   "id": "bda9b67d",
   "metadata": {},
   "outputs": [
    {
     "name": "stdout",
     "output_type": "stream",
     "text": [
      "CREATED /88babfd22f6c/ FOR HOLDING DISTANCE OUT OF MEMORY\n",
      "RETURNING scipy.sparse csr_matrix w/dims (40000, 40000)\n",
      "CLEANING UP 88babfd22f6c\n",
      "CREATED /f8c24ad6a56c/ FOR HOLDING DISTANCE OUT OF MEMORY\n",
      "RETURNING scipy.sparse csr_matrix w/dims (40000, 40000)\n",
      "CLEANING UP f8c24ad6a56c\n",
      "CREATED /183dbd16b972/ FOR HOLDING DISTANCE OUT OF MEMORY\n",
      "RETURNING scipy.sparse csr_matrix w/dims (40000, 40000)\n",
      "CLEANING UP 183dbd16b972\n"
     ]
    }
   ],
   "source": [
    "neighbors_exhaustive = {dist:[] for dist in max_tcrdists}\n",
    "times_exhaustive = []\n",
    "for d in dfs:\n",
    "    d_tcrdist = convert_df_to_tcrdist_form(d)\n",
    "    d_tcrdist.reset_index(drop=True, inplace=True)\n",
    "    told = time.time()\n",
    "    tr = TCRrep(cell_df=d_tcrdist, organism='human', chains=['beta'], compute_distances=False)\n",
    "#    tr.compute_sparse_rect_distances(radius=max_tcrdists[-1], chunk_size=1000)\n",
    "#    nn = tr.rw_beta\n",
    "    nn = compute_pw_sparse_out_of_memory(tr, max_distance=max_tcrdists[-1],\n",
    "                                         pm_pbar=False, row_size=1000, pm_processes=1)[0]\n",
    "    for dist in max_tcrdists:\n",
    "        neighbors_exhaustive[dist].append((nn.data<dist+1).sum()-len(d))\n",
    "    times_exhaustive.append(time.time()-told)\n",
    "neighbors_exhaustive = {key: np.array(value) for key, value in neighbors_exhaustive.items()}\n",
    "times_exhaustive = np.array(times_exhaustive)"
   ]
  },
  {
   "cell_type": "code",
   "execution_count": 13,
   "id": "3e274571",
   "metadata": {},
   "outputs": [
    {
     "data": {
      "text/plain": [
       "{0: array([154, 174, 166]),\n",
       " 3: array([186, 224, 198]),\n",
       " 6: array([354, 402, 366]),\n",
       " 9: array([900, 952, 834]),\n",
       " 12: array([7262, 7472, 7122]),\n",
       " 15: array([7970, 8244, 7844]),\n",
       " 18: array([11550, 11742, 11346]),\n",
       " 21: array([21186, 21312, 21192]),\n",
       " 24: array([87962, 89250, 88440]),\n",
       " 27: array([96618, 98352, 97338]),\n",
       " 30: array([133756, 135772, 135240]),\n",
       " 33: array([224594, 226958, 226504]),\n",
       " 36: array([627910, 634846, 629056]),\n",
       " 39: array([683400, 689454, 684040])}"
      ]
     },
     "execution_count": 13,
     "metadata": {},
     "output_type": "execute_result"
    }
   ],
   "source": [
    "neighbors_exhaustive"
   ]
  },
  {
   "cell_type": "code",
   "execution_count": 14,
   "id": "a5e9a879",
   "metadata": {},
   "outputs": [],
   "source": [
    "fraction = np.array([neighbors_symdel[dist].sum()/neighbors_exhaustive[dist].sum() for dist in max_tcrdists])"
   ]
  },
  {
   "cell_type": "code",
   "execution_count": 15,
   "id": "8e890842",
   "metadata": {},
   "outputs": [
    {
     "data": {
      "text/plain": [
       "[(0, 1.0),\n",
       " (3, 1.0),\n",
       " (6, 1.0),\n",
       " (9, 1.0),\n",
       " (12, 0.9998169838945827),\n",
       " (15, 0.9995843378501954),\n",
       " (18, 0.9959581962007045),\n",
       " (21, 0.9846443711728686),\n",
       " (24, 0.9806513784951741),\n",
       " (27, 0.8919837979117917),\n",
       " (30, 0.6476302474503913),\n",
       " (33, 0.3928849534551718),\n",
       " (36, 0.15774823291109263),\n",
       " (39, 0.14513825214133544)]"
      ]
     },
     "execution_count": 15,
     "metadata": {},
     "output_type": "execute_result"
    }
   ],
   "source": [
    "list(zip(max_tcrdists, fraction))"
   ]
  },
  {
   "cell_type": "code",
   "execution_count": 16,
   "id": "f5b7d675",
   "metadata": {},
   "outputs": [
    {
     "data": {
      "text/plain": [
       "106.5781250720102"
      ]
     },
     "execution_count": 16,
     "metadata": {},
     "output_type": "execute_result"
    }
   ],
   "source": [
    "times_exhaustive.mean()/times_symdel.mean()"
   ]
  },
  {
   "cell_type": "code",
   "execution_count": 21,
   "id": "c4ae752d",
   "metadata": {
    "scrolled": true
   },
   "outputs": [
    {
     "data": {
      "image/png": "[encoded data removed]",
      "text/plain": [
       "<Figure size 342x200 with 2 Axes>"
      ]
     },
     "metadata": {},
     "output_type": "display_data"
    }
   ],
   "source": [
    "fig, axes = plt.subplots(figsize=(3.42, 2.0), ncols=2)\n",
    "axes[0].plot(['Exh', 'SymD'], [np.mean(times_exhaustive), np.mean(times_symdel)], 'o')\n",
    "axes[0].tick_params(axis='x', labelrotation=90)\n",
    "axes[0].set_ylabel('Time in s')\n",
    "axes[0].set_yscale('log')\n",
    "axes[0].set_ylim(1, 1000)\n",
    "axes[0].set_xlim(-0.5, 1.5)\n",
    "axes[1].plot(max_tcrdists, fraction*100)\n",
    "axes[1].set_xlabel('TCRdist thresh.')\n",
    "axes[1].set_ylabel('% Pairs')\n",
    "axes[1].set_ylim(0, 105)\n",
    "axes[1].set_xlim(0, 40)\n",
    "fig.tight_layout()\n",
    "prs.plotting.label_axes(fig,xy=(-0.55, 1.0))\n",
    "fig.savefig('tcrdist_benchmark.pdf')"
   ]
  },
  {
   "cell_type": "code",
   "execution_count": null,
   "id": "766a51a3",
   "metadata": {},
   "outputs": [],
   "source": []
  }
 ],
 "metadata": {
  "kernelspec": {
   "display_name": "Python 3 (ipykernel)",
   "language": "python",
   "name": "python3"
  },
  "language_info": {
   "codemirror_mode": {
    "name": "ipython",
    "version": 3
   },
   "file_extension": ".py",
   "mimetype": "text/x-python",
   "name": "python",
   "nbconvert_exporter": "python",
   "pygments_lexer": "ipython3",
   "version": "3.10.9"
  }
 },
 "nbformat": 4,
 "nbformat_minor": 5
}
