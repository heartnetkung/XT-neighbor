{
 "cells": [
  {
   "cell_type": "code",
   "execution_count": 1,
   "id": "8dbff475",
   "metadata": {},
   "outputs": [],
   "source": [
    "import pandas as pd\n",
    "import pyrepseq as prs\n",
    "import numpy as np\n",
    "import matplotlib.pyplot as plt\n",
    "import scipy.sparse\n",
    "import warnings\n",
    "import seaborn as sns\n",
    "import time\n",
    "\n",
    "from tcrdist.repertoire import TCRrep\n",
    "from tcrdist.rep_funcs import compute_pw_sparse_out_of_memory\n",
    "from pyrepseq.metric.tcr_metric import BetaTcrdist\n",
    "btcrdist = BetaTcrdist()\n",
    "\n",
    "plt.style.use('bmh')"
   ]
  },
  {
   "cell_type": "code",
   "execution_count": 2,
   "id": "a3818ec2",
   "metadata": {},
   "outputs": [],
   "source": [
    "df = pd.read_csv('/home/andreas/drop/data/emerson/HIP00110.tsv.gz', sep='\\t')\n",
    "df = df[df['amino_acid'].apply(prs.isvalidcdr3)]\n",
    "df = prs.standardize_dataframe(df, col_mapper={'amino_acid' : 'CDR3B',\n",
    "                                          'v_family' : 'TRBV',\n",
    "                                         },\n",
    "                              suppress_warnings=True)\n",
    "df.dropna(subset='TRBV', inplace=True)\n",
    "df.drop_duplicates('CDR3B', inplace=True)\n",
    "df['CDR3Blen'] = df['CDR3B'].apply(len)\n",
    "df = df[df['CDR3Blen']>5]\n",
    "df['TRBV'] = df['TRBV'] + '*01'\n",
    "df.reset_index(drop=True, inplace=True)"
   ]
  },
  {
   "cell_type": "code",
   "execution_count": 3,
   "id": "429f37eb",
   "metadata": {},
   "outputs": [],
   "source": [
    "max_tcrdists = np.arange(0, 42, 3)"
   ]
  },
  {
   "cell_type": "code",
   "execution_count": 4,
   "id": "c7731411",
   "metadata": {},
   "outputs": [],
   "source": [
    "nsamples = 3\n",
    "dfs = [df.sample(40000) for i in range(nsamples)]"
   ]
  },
  {
   "cell_type": "code",
   "execution_count": 5,
   "id": "e5a2dc45",
   "metadata": {},
   "outputs": [],
   "source": [
    "# warm-up numba for benchmarking\n",
    "d = dfs[0]\n",
    "prs.nearest_neighbor_tcrdist(d, max_edits=2,\n",
    "                             max_tcrdist=0);"
   ]
  },
  {
   "cell_type": "code",
   "execution_count": 6,
   "id": "63736e3b",
   "metadata": {},
   "outputs": [],
   "source": [
    "neighbors_symdel = {dist:[] for dist in max_tcrdists}\n",
    "times_symdel = []\n",
    "for d in dfs:\n",
    "    told = time.time()\n",
    "    prs_nn = prs.nearest_neighbor_tcrdist(d, max_edits=2,\n",
    "                                      max_tcrdist=max_tcrdists[-1])\n",
    "    for dist in max_tcrdists:\n",
    "        neighbors_symdel[dist].append((prs_nn[:, 2]<=dist).sum())\n",
    "    times_symdel.append(time.time()-told)\n",
    "neighbors_symdel = {key: np.array(value) for key, value in neighbors_symdel.items()}\n",
    "times_symdel = np.array(times_symdel)"
   ]
  },
  {
   "cell_type": "code",
   "execution_count": 7,
   "id": "0aa23921",
   "metadata": {},
   "outputs": [
    {
     "data": {
      "text/plain": [
       "{0: array([154, 138, 142]),\n",
       " 3: array([180, 168, 168]),\n",
       " 6: array([356, 330, 310]),\n",
       " 9: array([832, 824, 752]),\n",
       " 12: array([7168, 7254, 6960]),\n",
       " 15: array([7910, 8012, 7660]),\n",
       " 18: array([11274, 11578, 11126]),\n",
       " 21: array([20636, 21252, 20798]),\n",
       " 24: array([87316, 87102, 87330]),\n",
       " 27: array([87370, 87172, 87398]),\n",
       " 30: array([87798, 87624, 87878]),\n",
       " 33: array([89278, 89076, 89330]),\n",
       " 36: array([100152,  99890,  99908]),\n",
       " 39: array([100184,  99930,  99946])}"
      ]
     },
     "execution_count": 7,
     "metadata": {},
     "output_type": "execute_result"
    }
   ],
   "source": [
    "neighbors_symdel"
   ]
  },
  {
   "cell_type": "code",
   "execution_count": 8,
   "id": "1ab614f7",
   "metadata": {},
   "outputs": [
    {
     "data": {
      "text/plain": [
       "array([4.19877219, 4.46426749, 4.41330576])"
      ]
     },
     "execution_count": 8,
     "metadata": {},
     "output_type": "execute_result"
    }
   ],
   "source": [
    "times_symdel"
   ]
  },
  {
   "cell_type": "code",
   "execution_count": 15,
   "id": "00436c7e",
   "metadata": {},
   "outputs": [],
   "source": [
    "neighbors_symdel3 = {dist:[] for dist in max_tcrdists}\n",
    "times_symdel3 = []\n",
    "for d in dfs:\n",
    "    told = time.time()\n",
    "    prs_nn = prs.nearest_neighbor_tcrdist(d, max_edits=3,\n",
    "                                      max_tcrdist=max_tcrdists[-1])\n",
    "    for dist in max_tcrdists:\n",
    "        neighbors_symdel3[dist].append((prs_nn[:, 2]<=dist).sum())\n",
    "    times_symdel3.append(time.time()-told)\n",
    "neighbors_symdel3 = {key: np.array(value) for key, value in neighbors_symdel3.items()}\n",
    "times_symdel3 = np.array(times_symdel3)"
   ]
  },
  {
   "cell_type": "code",
   "execution_count": 16,
   "id": "d9c12a30",
   "metadata": {},
   "outputs": [
    {
     "data": {
      "text/plain": [
       "array([18.31359458, 17.68297553, 18.39152098])"
      ]
     },
     "execution_count": 16,
     "metadata": {},
     "output_type": "execute_result"
    }
   ],
   "source": [
    "times_symdel3"
   ]
  },
  {
   "cell_type": "code",
   "execution_count": 17,
   "id": "b5ecadd7",
   "metadata": {},
   "outputs": [],
   "source": [
    "#neighbors_exhaustive = {dist:[] for dist in max_tcrdists}\n",
    "#times_exhaustive = []\n",
    "#for d in dfs:\n",
    "#    told = time.time()\n",
    "#    nn = btcrdist.calc_pdist_vector(d)\n",
    "#    for dist in max_tcrdists:\n",
    "#        neighbors_exhaustive[dist].append((nn<=dist).sum()*2)\n",
    "#    times_exhaustive.append(time.time()-told)\n",
    "#neighbors_exhaustive = {key: np.array(value) for key, value in neighbors_exhaustive.items()}\n",
    "#times_exhaustive = np.array(times_exhaustive)"
   ]
  },
  {
   "cell_type": "code",
   "execution_count": 18,
   "id": "7528b908",
   "metadata": {},
   "outputs": [],
   "source": [
    "#neighbors_exhaustive"
   ]
  },
  {
   "cell_type": "code",
   "execution_count": 19,
   "id": "3ba2935e",
   "metadata": {},
   "outputs": [],
   "source": [
    "def convert_df_to_tcrdist_form(df: pd.DataFrame):\n",
    "    mapper = {\n",
    "            \"TRBV\": \"v_b_gene\",\n",
    "            \"CDR3B\": \"cdr3_b_aa\",\n",
    "            \"rearrangement\" : 'cdr3_b_nucseq'}\n",
    "    df = df.rename(columns=mapper)\n",
    "    \n",
    "    df = df[list(mapper.values())]\n",
    "\n",
    "    if not \"count\" in df:\n",
    "        df[\"count\"] = 1\n",
    "\n",
    "    return df"
   ]
  },
  {
   "cell_type": "code",
   "execution_count": 20,
   "id": "bda9b67d",
   "metadata": {},
   "outputs": [
    {
     "name": "stdout",
     "output_type": "stream",
     "text": [
      "CREATED /47629a26ee74/ FOR HOLDING DISTANCE OUT OF MEMORY\n",
      "RETURNING scipy.sparse csr_matrix w/dims (40000, 40000)\n",
      "CLEANING UP 47629a26ee74\n",
      "CREATED /5b5cbb345520/ FOR HOLDING DISTANCE OUT OF MEMORY\n",
      "RETURNING scipy.sparse csr_matrix w/dims (40000, 40000)\n",
      "CLEANING UP 5b5cbb345520\n",
      "CREATED /8c82ecb81813/ FOR HOLDING DISTANCE OUT OF MEMORY\n",
      "RETURNING scipy.sparse csr_matrix w/dims (40000, 40000)\n",
      "CLEANING UP 8c82ecb81813\n"
     ]
    }
   ],
   "source": [
    "neighbors_exhaustive = {dist:[] for dist in max_tcrdists}\n",
    "times_exhaustive = []\n",
    "for d in dfs:\n",
    "    d_tcrdist = convert_df_to_tcrdist_form(d)\n",
    "    d_tcrdist.reset_index(drop=True, inplace=True)\n",
    "    told = time.time()\n",
    "    tr = TCRrep(cell_df=d_tcrdist, organism='human', chains=['beta'], compute_distances=False)\n",
    "#    tr.compute_sparse_rect_distances(radius=max_tcrdists[-1], chunk_size=1000)\n",
    "#    nn = tr.rw_beta\n",
    "    nn = compute_pw_sparse_out_of_memory(tr, max_distance=max_tcrdists[-1],\n",
    "                                         pm_pbar=False, row_size=1000, pm_processes=1)[0]\n",
    "    for dist in max_tcrdists:\n",
    "        neighbors_exhaustive[dist].append((nn.data<dist+1).sum()-len(d))\n",
    "    times_exhaustive.append(time.time()-told)\n",
    "neighbors_exhaustive = {key: np.array(value) for key, value in neighbors_exhaustive.items()}\n",
    "times_exhaustive = np.array(times_exhaustive)"
   ]
  },
  {
   "cell_type": "code",
   "execution_count": 21,
   "id": "3e274571",
   "metadata": {},
   "outputs": [
    {
     "data": {
      "text/plain": [
       "{0: array([154, 138, 142]),\n",
       " 3: array([180, 168, 168]),\n",
       " 6: array([356, 330, 310]),\n",
       " 9: array([832, 824, 752]),\n",
       " 12: array([7168, 7256, 6960]),\n",
       " 15: array([7914, 8018, 7662]),\n",
       " 18: array([11328, 11634, 11178]),\n",
       " 21: array([20954, 21562, 21106]),\n",
       " 24: array([89014, 88894, 89006]),\n",
       " 27: array([97656, 98140, 97856]),\n",
       " 30: array([135318, 136346, 136172]),\n",
       " 33: array([227092, 228782, 228990]),\n",
       " 36: array([631570, 636254, 638232]),\n",
       " 39: array([686822, 692758, 694062])}"
      ]
     },
     "execution_count": 21,
     "metadata": {},
     "output_type": "execute_result"
    }
   ],
   "source": [
    "neighbors_exhaustive"
   ]
  },
  {
   "cell_type": "code",
   "execution_count": 22,
   "id": "a5e9a879",
   "metadata": {},
   "outputs": [],
   "source": [
    "fraction = np.array([neighbors_symdel[dist].sum()/neighbors_exhaustive[dist].sum() for dist in max_tcrdists])"
   ]
  },
  {
   "cell_type": "code",
   "execution_count": 23,
   "id": "71c0823c",
   "metadata": {},
   "outputs": [],
   "source": [
    "fraction3 = np.array([neighbors_symdel3[dist].sum()/neighbors_exhaustive[dist].sum() for dist in max_tcrdists])"
   ]
  },
  {
   "cell_type": "code",
   "execution_count": 24,
   "id": "8e890842",
   "metadata": {},
   "outputs": [
    {
     "data": {
      "text/plain": [
       "[(0, 1.0),\n",
       " (3, 1.0),\n",
       " (6, 1.0),\n",
       " (9, 1.0),\n",
       " (12, 0.9999064721286943),\n",
       " (15, 0.999491396117657),\n",
       " (18, 0.9952548330404218),\n",
       " (21, 0.9852881078872088),\n",
       " (24, 0.9806454513438786),\n",
       " (27, 0.8920082274256603),\n",
       " (30, 0.6456026442001197),\n",
       " (33, 0.39085716288197364),\n",
       " (36, 0.15736683497231982),\n",
       " (39, 0.14470193022710767)]"
      ]
     },
     "execution_count": 24,
     "metadata": {},
     "output_type": "execute_result"
    }
   ],
   "source": [
    "list(zip(max_tcrdists, fraction))"
   ]
  },
  {
   "cell_type": "code",
   "execution_count": 43,
   "id": "a9b0c1f3",
   "metadata": {},
   "outputs": [
    {
     "data": {
      "text/plain": [
       "[(0, 1.0),\n",
       " (3, 1.0),\n",
       " (6, 1.0),\n",
       " (9, 1.0),\n",
       " (12, 1.0),\n",
       " (15, 1.0),\n",
       " (18, 1.0),\n",
       " (21, 1.0),\n",
       " (24, 0.9999400555984325),\n",
       " (27, 0.9994415158078269),\n",
       " (30, 0.9966408065987309),\n",
       " (33, 0.9875157695542472),\n",
       " (36, 0.9768758105742958),\n",
       " (39, 0.90042543505581)]"
      ]
     },
     "execution_count": 43,
     "metadata": {},
     "output_type": "execute_result"
    }
   ],
   "source": [
    "list(zip(max_tcrdists, fraction3))"
   ]
  },
  {
   "cell_type": "code",
   "execution_count": 25,
   "id": "f5b7d675",
   "metadata": {},
   "outputs": [
    {
     "data": {
      "text/plain": [
       "(98.35140465966556, 23.64629676265215)"
      ]
     },
     "execution_count": 25,
     "metadata": {},
     "output_type": "execute_result"
    }
   ],
   "source": [
    "times_exhaustive.mean()/times_symdel.mean(), times_exhaustive.mean()/times_symdel3.mean()"
   ]
  },
  {
   "cell_type": "code",
   "execution_count": 34,
   "id": "5f04db4f",
   "metadata": {},
   "outputs": [],
   "source": [
    "axes[0].plot?"
   ]
  },
  {
   "cell_type": "code",
   "execution_count": 42,
   "id": "c4ae752d",
   "metadata": {
    "scrolled": true
   },
   "outputs": [
    {
     "data": {
      "image/png": "[encoded data removed]",
      "text/plain": [
       "<Figure size 342x240 with 2 Axes>"
      ]
     },
     "metadata": {},
     "output_type": "display_data"
    }
   ],
   "source": [
    "fig, axes = plt.subplots(figsize=(3.42, 2.4), ncols=2)\n",
    "axes[0].plot(['Exh', 'SymD 3', 'SymD 2'],\n",
    "             [np.mean(times_exhaustive), np.mean(times_symdel3), np.mean(times_symdel)],\n",
    "             'o', markeredgecolor=None)\n",
    "axes[0].tick_params(axis='x', labelrotation=90)\n",
    "axes[0].set_ylabel('Time in s')\n",
    "axes[0].set_yscale('log')\n",
    "axes[0].set_ylim(1, 1000)\n",
    "axes[0].set_xlim(-0.5, 2.5)\n",
    "axes[1].plot(max_tcrdists, fraction*100, label='d=2', color='C1')\n",
    "axes[1].plot(max_tcrdists, fraction3*100, label='d=3', color='C2')\n",
    "axes[1].legend(fontsize='small')\n",
    "axes[1].set_xlabel('TCRdist thresh.')\n",
    "axes[1].set_ylabel('% Pairs')\n",
    "axes[1].set_ylim(0, 105)\n",
    "axes[1].set_xlim(0, 40)\n",
    "fig.tight_layout(w_pad=1.5, pad=0.0)\n",
    "prs.plotting.label_axes(fig,xy=(-0.55, 1.0))\n",
    "fig.savefig('tcrdist_benchmark.pdf')\n",
    "fig.savefig('tcrdist_benchmark.svg')"
   ]
  },
  {
   "cell_type": "code",
   "execution_count": null,
   "id": "766a51a3",
   "metadata": {},
   "outputs": [],
   "source": []
  },
  {
   "cell_type": "code",
   "execution_count": null,
   "id": "43c13e1a",
   "metadata": {},
   "outputs": [],
   "source": []
  }
 ],
 "metadata": {
  "kernelspec": {
   "display_name": "Python 3 (ipykernel)",
   "language": "python",
   "name": "python3"
  },
  "language_info": {
   "codemirror_mode": {
    "name": "ipython",
    "version": 3
   },
   "file_extension": ".py",
   "mimetype": "text/x-python",
   "name": "python",
   "nbconvert_exporter": "python",
   "pygments_lexer": "ipython3",
   "version": "3.10.9"
  }
 },
 "nbformat": 4,
 "nbformat_minor": 5
}
